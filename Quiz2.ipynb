{
 "cells": [
  {
   "cell_type": "code",
   "execution_count": 1,
   "id": "7936b9b8",
   "metadata": {},
   "outputs": [
    {
     "ename": "error",
     "evalue": "OpenCV(4.0.1) C:\\ci\\opencv-suite_1573470242804\\work\\modules\\imgproc\\src\\color.cpp:181: error: (-215:Assertion failed) !_src.empty() in function 'cv::cvtColor'\n",
     "output_type": "error",
     "traceback": [
      "\u001b[1;31m---------------------------------------------------------------------------\u001b[0m",
      "\u001b[1;31merror\u001b[0m                                     Traceback (most recent call last)",
      "\u001b[1;32m<ipython-input-1-5d17d566c146>\u001b[0m in \u001b[0;36m<module>\u001b[1;34m\u001b[0m\n\u001b[0;32m     17\u001b[0m \u001b[1;31m#img = plt.imread(dir + \"Book.jpg\")\u001b[0m\u001b[1;33m\u001b[0m\u001b[1;33m\u001b[0m\u001b[1;33m\u001b[0m\u001b[0m\n\u001b[0;32m     18\u001b[0m \u001b[0mimg\u001b[0m \u001b[1;33m=\u001b[0m \u001b[0mcv2\u001b[0m\u001b[1;33m.\u001b[0m\u001b[0mimread\u001b[0m\u001b[1;33m(\u001b[0m\u001b[1;34m\"./Foto0/Book.jpg\"\u001b[0m\u001b[1;33m)\u001b[0m\u001b[1;33m\u001b[0m\u001b[1;33m\u001b[0m\u001b[0m\n\u001b[1;32m---> 19\u001b[1;33m \u001b[0mimg\u001b[0m \u001b[1;33m=\u001b[0m \u001b[0mcv2\u001b[0m\u001b[1;33m.\u001b[0m\u001b[0mcvtColor\u001b[0m\u001b[1;33m(\u001b[0m\u001b[0mimg\u001b[0m\u001b[1;33m,\u001b[0m\u001b[0mcv2\u001b[0m\u001b[1;33m.\u001b[0m\u001b[0mCOLOR_BGR2RGB\u001b[0m\u001b[1;33m)\u001b[0m\u001b[1;33m\u001b[0m\u001b[1;33m\u001b[0m\u001b[0m\n\u001b[0m\u001b[0;32m     20\u001b[0m \u001b[0mh\u001b[0m\u001b[1;33m,\u001b[0m\u001b[0mw\u001b[0m\u001b[1;33m,\u001b[0m\u001b[0md\u001b[0m \u001b[1;33m=\u001b[0m \u001b[0mimg\u001b[0m\u001b[1;33m.\u001b[0m\u001b[0mshape\u001b[0m\u001b[1;33m\u001b[0m\u001b[1;33m\u001b[0m\u001b[0m\n\u001b[0;32m     21\u001b[0m \u001b[1;31m#Tamanho da imagem em cm\u001b[0m\u001b[1;33m\u001b[0m\u001b[1;33m\u001b[0m\u001b[1;33m\u001b[0m\u001b[0m\n",
      "\u001b[1;31merror\u001b[0m: OpenCV(4.0.1) C:\\ci\\opencv-suite_1573470242804\\work\\modules\\imgproc\\src\\color.cpp:181: error: (-215:Assertion failed) !_src.empty() in function 'cv::cvtColor'\n"
     ]
    }
   ],
   "source": [
    "# -*- coding: utf-8 -*-\n",
    "\"\"\"\n",
    "Created on Wed Jun 16 00:12:50 2021\n",
    "\n",
    "@author: leona\n",
    "\"\"\"\n",
    "\n",
    "import numpy as np\n",
    "import cv2\n",
    "import matplotlib.pyplot as plt\n",
    "import matplotlib.image as mpimg\n",
    "\n",
    "\n",
    "#########################################################\n",
    "\n",
    "\n",
    "#img = plt.imread(dir + \"Book.jpg\")\n",
    "img = cv2.imread(\"./Foto0/Book.jpg\")\n",
    "img = cv2.cvtColor(img,cv2.COLOR_BGR2RGB)\n",
    "h,w,d = img.shape\n",
    "#Tamanho da imagem em cm\n",
    "dX = 17 #largura\n",
    "dY = 24 #altura\n",
    "dZ = 20 #distãncia da imagem com a camera\n",
    "\n",
    "#Tamanho da imagem em pixel\n",
    "dx = 360\n",
    "dy = 512\n",
    "\n",
    "\n",
    "# Centro da Imagem\n",
    "cx = w/2\n",
    "cy = h/2-49\n",
    "\n",
    "#Distancia Focal\n",
    "fx = (dx/dX)*dZ \n",
    "fy = (dy/dY)*dZ \n",
    "\n",
    "# Parametros Intricicos\n",
    "Mint = np.array([[fx, 0, cx],[0, fy, cy],[0, 0, 1]])\n",
    "\n",
    "##########################################################\n",
    "\n",
    "xi = np.zeros((1,9))\n",
    "              \n",
    "yi = np.zeros((1,9))\n",
    "\n",
    "Pw = np.zeros((3,9))\n",
    "cont = 0\n",
    "\n",
    "for i in np.arange(-1,2): \n",
    "    for j in np.arange(-1,2):\n",
    "        \n",
    "        Pw[:,[cont]] = np.array([[8.5*i],[12*j],[20]])\n",
    "        pin = Mint@Pw[:,[cont]]\n",
    "        xi[0,cont] = pin[0,0]/pin[2,0]\n",
    "        yi[0,cont] = pin[1,0]/pin[2,0] \n",
    "        cont = cont +1\n",
    "\n",
    "\n",
    "plt.plot(xi,yi, marker = \"v\", color=\"black\")\n",
    "\n",
    "plt.imshow(img, extent = [0, w, 0, h])\n",
    "plt.show()\n"
   ]
  },
  {
   "cell_type": "code",
   "execution_count": null,
   "id": "284689cd",
   "metadata": {},
   "outputs": [],
   "source": []
  }
 ],
 "metadata": {
  "kernelspec": {
   "display_name": "Python 3",
   "language": "python",
   "name": "python3"
  },
  "language_info": {
   "codemirror_mode": {
    "name": "ipython",
    "version": 3
   },
   "file_extension": ".py",
   "mimetype": "text/x-python",
   "name": "python",
   "nbconvert_exporter": "python",
   "pygments_lexer": "ipython3",
   "version": "3.8.10"
  }
 },
 "nbformat": 4,
 "nbformat_minor": 5
}
